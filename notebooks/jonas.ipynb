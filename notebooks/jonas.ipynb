{
 "cells": [
  {
   "cell_type": "code",
   "execution_count": null,
   "id": "1bf97512",
   "metadata": {},
   "outputs": [],
   "source": [
    "import pandas as pd\n",
    "import "
   ]
  },
  {
   "cell_type": "code",
   "execution_count": 7,
   "id": "0f75c1e3",
   "metadata": {},
   "outputs": [
    {
     "name": "stdout",
     "output_type": "stream",
     "text": [
      "<class 'pandas.core.frame.DataFrame'>\n",
      "RangeIndex: 323787 entries, 0 to 323786\n",
      "Data columns (total 9 columns):\n",
      " #   Column          Non-Null Count   Dtype \n",
      "---  ------          --------------   ----- \n",
      " 0   track           323787 non-null  object\n",
      " 1   artist          323787 non-null  object\n",
      " 2   peak_pos        323787 non-null  int64 \n",
      " 3   last_week       323787 non-null  int64 \n",
      " 4   weeks_on_chart  323787 non-null  int64 \n",
      " 5   chart_pos       323787 non-null  int64 \n",
      " 6   isNew           323787 non-null  bool  \n",
      " 7   chart_week      323787 non-null  object\n",
      " 8   chart           323787 non-null  object\n",
      "dtypes: bool(1), int64(4), object(4)\n",
      "memory usage: 20.1+ MB\n"
     ]
    }
   ],
   "source": [
    "billboard_charts = pd.read_csv(r'C:\\Users\\Xonas\\Documents\\UFPB\\IA-MUSIC\\data\\billboard_hot100_charts.csv', sep=\"\\t\")\n",
    "billboard_charts.info()"
   ]
  },
  {
   "cell_type": "code",
   "execution_count": 8,
   "id": "46659ecf",
   "metadata": {},
   "outputs": [
    {
     "name": "stdout",
     "output_type": "stream",
     "text": [
      "<class 'pandas.core.frame.DataFrame'>\n",
      "RangeIndex: 24540 entries, 0 to 24539\n",
      "Data columns (total 22 columns):\n",
      " #   Column            Non-Null Count  Dtype  \n",
      "---  ------            --------------  -----  \n",
      " 0   song_id           24540 non-null  object \n",
      " 1   song_name         24540 non-null  object \n",
      " 2   billboard         24540 non-null  object \n",
      " 3   artists           24540 non-null  object \n",
      " 4   popularity        24540 non-null  int64  \n",
      " 5   explicit          24540 non-null  bool   \n",
      " 6   song_type         24540 non-null  object \n",
      " 7   track_number      24540 non-null  int64  \n",
      " 8   num_artists       24540 non-null  int64  \n",
      " 9   danceability      24540 non-null  float64\n",
      " 10  energy            24540 non-null  float64\n",
      " 11  key               24540 non-null  float64\n",
      " 12  loudness          24540 non-null  float64\n",
      " 13  mode              24540 non-null  float64\n",
      " 14  speechiness       24540 non-null  float64\n",
      " 15  acousticness      24540 non-null  float64\n",
      " 16  instrumentalness  24540 non-null  float64\n",
      " 17  liveness          24540 non-null  float64\n",
      " 18  valence           24540 non-null  float64\n",
      " 19  tempo             24540 non-null  float64\n",
      " 20  time_signature    24540 non-null  float64\n",
      " 21  duration_ms       24540 non-null  float64\n",
      "dtypes: bool(1), float64(13), int64(3), object(5)\n",
      "memory usage: 4.0+ MB\n"
     ]
    }
   ],
   "source": [
    "billboard_spotify_charts = pd.read_csv(r'C:\\Users\\Xonas\\Documents\\UFPB\\IA-MUSIC\\data\\billboard_hot100_songs_to_spotify_with_features.csv', sep=\"\\t\")\n",
    "billboard_spotify_charts.info()"
   ]
  },
  {
   "cell_type": "code",
   "execution_count": 30,
   "id": "5e15a9e8",
   "metadata": {},
   "outputs": [
    {
     "data": {
      "text/html": [
       "<div>\n",
       "<style scoped>\n",
       "    .dataframe tbody tr th:only-of-type {\n",
       "        vertical-align: middle;\n",
       "    }\n",
       "\n",
       "    .dataframe tbody tr th {\n",
       "        vertical-align: top;\n",
       "    }\n",
       "\n",
       "    .dataframe thead th {\n",
       "        text-align: right;\n",
       "    }\n",
       "</style>\n",
       "<table border=\"1\" class=\"dataframe\">\n",
       "  <thead>\n",
       "    <tr style=\"text-align: right;\">\n",
       "      <th></th>\n",
       "      <th>track</th>\n",
       "      <th>artist</th>\n",
       "      <th>peak_pos</th>\n",
       "      <th>last_week</th>\n",
       "      <th>weeks_on_chart</th>\n",
       "      <th>chart_pos</th>\n",
       "      <th>isNew</th>\n",
       "      <th>chart_week</th>\n",
       "      <th>chart</th>\n",
       "    </tr>\n",
       "  </thead>\n",
       "  <tbody>\n",
       "    <tr>\n",
       "      <th>0</th>\n",
       "      <td>WAP</td>\n",
       "      <td>Cardi B Featuring Megan Thee Stallion</td>\n",
       "      <td>1</td>\n",
       "      <td>0</td>\n",
       "      <td>1</td>\n",
       "      <td>1</td>\n",
       "      <td>True</td>\n",
       "      <td>2020-08-22 00:00:00</td>\n",
       "      <td>hot-100</td>\n",
       "    </tr>\n",
       "    <tr>\n",
       "      <th>1</th>\n",
       "      <td>Rockstar</td>\n",
       "      <td>DaBaby Featuring Roddy Ricch</td>\n",
       "      <td>1</td>\n",
       "      <td>2</td>\n",
       "      <td>17</td>\n",
       "      <td>2</td>\n",
       "      <td>False</td>\n",
       "      <td>2020-08-22 00:00:00</td>\n",
       "      <td>hot-100</td>\n",
       "    </tr>\n",
       "    <tr>\n",
       "      <th>2</th>\n",
       "      <td>Blinding Lights</td>\n",
       "      <td>The Weeknd</td>\n",
       "      <td>1</td>\n",
       "      <td>4</td>\n",
       "      <td>37</td>\n",
       "      <td>3</td>\n",
       "      <td>False</td>\n",
       "      <td>2020-08-22 00:00:00</td>\n",
       "      <td>hot-100</td>\n",
       "    </tr>\n",
       "    <tr>\n",
       "      <th>3</th>\n",
       "      <td>Whats Poppin</td>\n",
       "      <td>Jack Harlow Featuring DaBaby, Tory Lanez &amp; Lil...</td>\n",
       "      <td>2</td>\n",
       "      <td>3</td>\n",
       "      <td>27</td>\n",
       "      <td>4</td>\n",
       "      <td>False</td>\n",
       "      <td>2020-08-22 00:00:00</td>\n",
       "      <td>hot-100</td>\n",
       "    </tr>\n",
       "    <tr>\n",
       "      <th>4</th>\n",
       "      <td>Watermelon Sugar</td>\n",
       "      <td>Harry Styles</td>\n",
       "      <td>1</td>\n",
       "      <td>1</td>\n",
       "      <td>21</td>\n",
       "      <td>5</td>\n",
       "      <td>False</td>\n",
       "      <td>2020-08-22 00:00:00</td>\n",
       "      <td>hot-100</td>\n",
       "    </tr>\n",
       "  </tbody>\n",
       "</table>\n",
       "</div>"
      ],
      "text/plain": [
       "              track                                             artist  \\\n",
       "0               WAP              Cardi B Featuring Megan Thee Stallion   \n",
       "1          Rockstar                       DaBaby Featuring Roddy Ricch   \n",
       "2   Blinding Lights                                         The Weeknd   \n",
       "3      Whats Poppin  Jack Harlow Featuring DaBaby, Tory Lanez & Lil...   \n",
       "4  Watermelon Sugar                                       Harry Styles   \n",
       "\n",
       "   peak_pos  last_week  weeks_on_chart  chart_pos  isNew           chart_week  \\\n",
       "0         1          0               1          1   True  2020-08-22 00:00:00   \n",
       "1         1          2              17          2  False  2020-08-22 00:00:00   \n",
       "2         1          4              37          3  False  2020-08-22 00:00:00   \n",
       "3         2          3              27          4  False  2020-08-22 00:00:00   \n",
       "4         1          1              21          5  False  2020-08-22 00:00:00   \n",
       "\n",
       "     chart  \n",
       "0  hot-100  \n",
       "1  hot-100  \n",
       "2  hot-100  \n",
       "3  hot-100  \n",
       "4  hot-100  "
      ]
     },
     "execution_count": 30,
     "metadata": {},
     "output_type": "execute_result"
    }
   ],
   "source": [
    "sucess = billboard_charts[billboard_charts['chart_pos']<=5].drop_duplicates(subset='track')\n",
    "fail = billboard_charts[~billboard_charts['track'].isin(sucess['track'])].drop_duplicates(subset='track')\n",
    "\n",
    "sucess.loc[:, 'chart_week'] = pd.to_datetime(sucess['chart_week'], format='%Y-%m-%d')\n",
    "fail.loc[:, 'chart_week'] = pd.to_datetime(fail['chart_week'], format='%Y-%m-%d')\n",
    "\n",
    "sucess.head()"
   ]
  },
  {
   "cell_type": "code",
   "execution_count": null,
   "id": "e31f2a41",
   "metadata": {},
   "outputs": [
    {
     "name": "stdout",
     "output_type": "stream",
     "text": [
      "<class 'pandas.core.frame.DataFrame'>\n",
      "Index: 2861 entries, 0 to 323691\n",
      "Data columns (total 9 columns):\n",
      " #   Column          Non-Null Count  Dtype \n",
      "---  ------          --------------  ----- \n",
      " 0   track           2861 non-null   object\n",
      " 1   artist          2861 non-null   object\n",
      " 2   peak_pos        2861 non-null   int64 \n",
      " 3   last_week       2861 non-null   int64 \n",
      " 4   weeks_on_chart  2861 non-null   int64 \n",
      " 5   chart_pos       2861 non-null   int64 \n",
      " 6   isNew           2861 non-null   bool  \n",
      " 7   chart_week      2861 non-null   object\n",
      " 8   chart           2861 non-null   object\n",
      "dtypes: bool(1), int64(4), object(4)\n",
      "memory usage: 204.0+ KB\n"
     ]
    }
   ],
   "source": [
    "sucess[sucess['chart_week']].info()"
   ]
  },
  {
   "cell_type": "code",
   "execution_count": 23,
   "id": "b8ffa668",
   "metadata": {},
   "outputs": [
    {
     "name": "stdout",
     "output_type": "stream",
     "text": [
      "<class 'pandas.core.frame.DataFrame'>\n",
      "Index: 21127 entries, 6 to 323785\n",
      "Data columns (total 9 columns):\n",
      " #   Column          Non-Null Count  Dtype \n",
      "---  ------          --------------  ----- \n",
      " 0   track           21127 non-null  object\n",
      " 1   artist          21127 non-null  object\n",
      " 2   peak_pos        21127 non-null  int64 \n",
      " 3   last_week       21127 non-null  int64 \n",
      " 4   weeks_on_chart  21127 non-null  int64 \n",
      " 5   chart_pos       21127 non-null  int64 \n",
      " 6   isNew           21127 non-null  bool  \n",
      " 7   chart_week      21127 non-null  object\n",
      " 8   chart           21127 non-null  object\n",
      "dtypes: bool(1), int64(4), object(4)\n",
      "memory usage: 1.5+ MB\n"
     ]
    }
   ],
   "source": [
    "fail.info()"
   ]
  }
 ],
 "metadata": {
  "kernelspec": {
   "display_name": "base",
   "language": "python",
   "name": "python3"
  },
  "language_info": {
   "codemirror_mode": {
    "name": "ipython",
    "version": 3
   },
   "file_extension": ".py",
   "mimetype": "text/x-python",
   "name": "python",
   "nbconvert_exporter": "python",
   "pygments_lexer": "ipython3",
   "version": "3.12.7"
  }
 },
 "nbformat": 4,
 "nbformat_minor": 5
}
