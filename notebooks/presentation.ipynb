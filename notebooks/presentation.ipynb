{
 "cells": [
  {
   "cell_type": "markdown",
   "id": "25d3bb74",
   "metadata": {
    "slideshow": {
     "slide_type": "slide"
    }
   },
   "source": [
    "# 🎵 Previsão de Popularidade Musical com Machine Learning\n",
    "\n",
    "### Integrantes:\n",
    "- Jonas Felipe\n",
    "- João Vitor Oliveira\n",
    "\n",
    "#### Universidade Federal da Paraíba – 2024"
   ]
  },
  {
   "cell_type": "markdown",
   "id": "23552e71",
   "metadata": {
    "slideshow": {
     "slide_type": "slide"
    }
   },
   "source": [
    "# 🎯 Motivação\n",
    "\n",
    "- Qual o \"segredo\" para uma música fazer sucesso?\n",
    "- Billboard disponibiliza dados públicos com métricas de popularidade.\n",
    "- Podemos prever se uma música será popular apenas a partir do áudio?\n",
    "\n",
    "## **Objetivo**\n",
    "- Explorar técnicas de Machine Learning para prever o sucesso de músicas usando características extraídas de seus áudios."
   ]
  },
  {
   "cell_type": "markdown",
   "id": "4b10a443",
   "metadata": {
    "slideshow": {
     "slide_type": "slide"
    }
   },
   "source": [
    "# 📚 Trabalhos Relacionados\n",
    "\n",
    "- **Hit Song Science**: campo dedicado à previsão de sucessos musicais.\n",
    "- [Lee & Lee (2019)](https://arxiv.org/pdf/1812.00551) — métrica de popularidade + predição com SVM.\n",
    "- [Jung & Mayer (2024)](https://arxiv.org/abs/2403.12079) — XGBoost, Random Forest, MARS.\n",
    "- Aplicações:\n",
    "  - Recomendadores (Spotify, YouTube)\n",
    "  - Marketing musical\n"
   ]
  },
  {
   "cell_type": "markdown",
   "id": "d8a2254d",
   "metadata": {
    "slideshow": {
     "slide_type": "slide"
    }
   },
   "source": [
    "# ⚙️ Metodologia\n",
    "\n",
    "## Dataset\n",
    "- 966 músicas (Top 5 e Não-Top 5)\n",
    "- Extraídas de áudios `.wav` convertidos de `.webm` e `.mp3`\n",
    "\n",
    "## Features\n",
    "- MFCCs, Chroma, Spectral Centroid, Tempo\n",
    "- Total: 34 variáveis por música\n",
    "\n",
    "## Modelos\n",
    "- Random Forest (baseline)\n",
    "- XGBoost (com `scale_pos_weight`)\n",
    "- Validação cruzada estratificada (5 folds)\n"
   ]
  },
  {
   "cell_type": "markdown",
   "id": "2f1f5c1e",
   "metadata": {
    "slideshow": {
     "slide_type": "slide"
    }
   },
   "source": [
    "# 📊 Resultados e Discussão\n",
    "\n",
    "## Acurácia média (5 folds)\n",
    "\n",
    "| Modelo         | Acurácia Média |\n",
    "|----------------|----------------|\n",
    "| Random Forest  | ~60%           |\n",
    "| XGBoost        | ~61–62%        |\n",
    "\n",
    "- Métricas limitadas pelos dados exclusivamente acústicos.\n",
    "- Performance consistente com literatura.\n",
    "\n",
    "## Importância das Features\n",
    "_(plot gerado abaixo)_\n"
   ]
  },
  {
   "cell_type": "code",
   "execution_count": null,
   "id": "4dfb83af",
   "metadata": {
    "slideshow": {
     "slide_type": "subslide"
    },
    "vscode": {
     "languageId": "plaintext"
    }
   },
   "outputs": [],
   "source": [
    "# Código para plotar importância das features\n",
    "from xgboost import plot_importance\n",
    "import matplotlib.pyplot as plt\n",
    "\n",
    "plot_importance(model_xgb, max_num_features=15)\n",
    "plt.title(\"Importância das Features - XGBoost\")\n",
    "plt.show()"
   ]
  },
  {
   "cell_type": "markdown",
   "id": "b3e6dba1",
   "metadata": {
    "slideshow": {
     "slide_type": "slide"
    }
   },
   "source": [
    "# 🧪 Demonstração\n",
    "\n",
    "- Extração de features de uma música real\n",
    "- Previsão ao vivo com modelo treinado"
   ]
  },
  {
   "cell_type": "code",
   "execution_count": null,
   "id": "ba9a3139",
   "metadata": {
    "slideshow": {
     "slide_type": "slide"
    },
    "vscode": {
     "languageId": "plaintext"
    }
   },
   "outputs": [],
   "source": [
    "# Exemplo de execução ao vivo\n",
    "audio = '../data/musics/wav/musica_nova.wav'\n",
    "features = extract_features(audio).reshape(1, -1)\n",
    "pred = model_xgb.predict(features)\n",
    "print(\"🎵 Resultado:\", \"Top 5\" if pred[0] == 1 else \"Não Top 5\")"
   ]
  },
  {
   "cell_type": "markdown",
   "id": "47324ac7",
   "metadata": {
    "slideshow": {
     "slide_type": "slide"
    }
   },
   "source": [
    "# ✅ Conclusões\n",
    "\n",
    "- É possível prever padrões de popularidade com acurácia ~60% usando apenas o áudio.\n",
    "- Gênero, loudness e MFCCs são features relevantes.\n",
    "- Dados de áudio sozinhos **limitam a precisão**.\n",
    "\n",
    "## 🧩 Limitações\n",
    "- Dataset pequeno (966 músicas)\n",
    "- Sem dados contextuais (artista, redes sociais, etc.)\n",
    "- Compressão de áudio afeta qualidade\n",
    "\n",
    "## 📈 Trabalhos Futuros\n",
    "- Usar espectrogramas com CNN\n",
    "- Incluir dados externos (tweets, playlists)\n",
    "- Testar com regressão (score contínuo)\n"
   ]
  },
  {
   "cell_type": "markdown",
   "id": "0aa6d024",
   "metadata": {},
   "source": []
  }
 ],
 "metadata": {
  "language_info": {
   "name": "python"
  }
 },
 "nbformat": 4,
 "nbformat_minor": 5
}
